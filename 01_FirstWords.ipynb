{
 "cells": [
  {
   "cell_type": "code",
   "execution_count": 1,
   "id": "bdafab8b",
   "metadata": {
    "ExecuteTime": {
     "end_time": "2023-04-27T01:50:44.522374Z",
     "start_time": "2023-04-27T01:50:43.633502Z"
    }
   },
   "outputs": [],
   "source": [
    "import openai\n",
    "from src.OpenAIConnector import get_APIKey"
   ]
  },
  {
   "cell_type": "code",
   "execution_count": 10,
   "id": "9c31d228",
   "metadata": {
    "ExecuteTime": {
     "end_time": "2023-04-27T01:59:23.214954Z",
     "start_time": "2023-04-27T01:59:23.211734Z"
    }
   },
   "outputs": [],
   "source": [
    "openai.api_key = get_APIKey()"
   ]
  },
  {
   "cell_type": "code",
   "execution_count": 5,
   "id": "bb62f21d",
   "metadata": {
    "ExecuteTime": {
     "end_time": "2023-04-27T01:51:16.844168Z",
     "start_time": "2023-04-27T01:51:14.448988Z"
    }
   },
   "outputs": [
    {
     "name": "stdout",
     "output_type": "stream",
     "text": [
      "\n",
      "\n",
      "The Dallas Mavericks are quite a sight\n",
      "Their fans are loud and full of might\n",
      "They cheer and they shout\n",
      "For Dirk and the rout\n",
      "And the Mavs will win the fight!\n"
     ]
    }
   ],
   "source": [
    "response = openai.Completion.create(\n",
    "    model=\"text-davinci-003\",\n",
    "    prompt='Write a limerick about the Dallas Mavericks',\n",
    "    temperature=0,\n",
    "    max_tokens=50)\n",
    "print(response.to_dict()['choices'][0].to_dict()['text'])"
   ]
  },
  {
   "cell_type": "code",
   "execution_count": 6,
   "id": "6899977f",
   "metadata": {
    "ExecuteTime": {
     "end_time": "2023-04-27T01:51:24.277658Z",
     "start_time": "2023-04-27T01:51:18.963376Z"
    }
   },
   "outputs": [],
   "source": [
    "chatResponse = openai.ChatCompletion.create(\n",
    "    model=\"gpt-3.5-turbo\",\n",
    "    messages=[\n",
    "        {\"role\": \"system\", \"content\": \"You are a helpful assistant.\"},\n",
    "        {\"role\": \"user\", \"content\": \"Who won F1 champtionship in 2022?\"}\n",
    "    ]\n",
    ")"
   ]
  },
  {
   "cell_type": "code",
   "execution_count": 7,
   "id": "91821943",
   "metadata": {
    "ExecuteTime": {
     "end_time": "2023-04-27T01:51:25.893101Z",
     "start_time": "2023-04-27T01:51:25.885099Z"
    }
   },
   "outputs": [
    {
     "name": "stdout",
     "output_type": "stream",
     "text": [
      "As an AI language model, I cannot predict future events. However, as of now, the F1 championship for the year 2022 hasn't taken place yet. The championship typically runs from March to November, with multiple Grand Prix races held around the world.\n"
     ]
    }
   ],
   "source": [
    "print(chatResponse['choices'][0]['message']['content'])"
   ]
  },
  {
   "cell_type": "markdown",
   "id": "67f1a9bd",
   "metadata": {},
   "source": [
    "**Turns out gpt-3.5-turbo is trained on data upto Sep2021**"
   ]
  },
  {
   "cell_type": "code",
   "execution_count": 13,
   "id": "bbbba751",
   "metadata": {
    "ExecuteTime": {
     "end_time": "2023-04-27T02:00:38.887073Z",
     "start_time": "2023-04-27T02:00:19.129498Z"
    }
   },
   "outputs": [],
   "source": [
    "chatResponse = openai.ChatCompletion.create(\n",
    "    model=\"gpt-3.5-turbo\",\n",
    "    messages=[\n",
    "        {\"role\": \"system\", \"content\": \"You are a helpful assistant.\"},\n",
    "        {\"role\": \"user\", \"content\": \"Who won F1 champtionship in 2022?\"},\n",
    "        {\"role\": \"assistant\", \"content\": \"As an AI language model, I cannot predict future events. \\\n",
    "        However, as of now, the F1 championship for the year 2022 hasn't taken place yet. \\\n",
    "        The championship typically runs from March to November, with multiple Grand Prix races held around the world.\"},\n",
    "        {\"role\": \"user\", \"content\": \"Duh. Describe the driver's standings for the last 2020 Championships\"}\n",
    "    ]\n",
    ")"
   ]
  },
  {
   "cell_type": "code",
   "execution_count": 14,
   "id": "6a81047c",
   "metadata": {
    "ExecuteTime": {
     "end_time": "2023-04-27T02:00:51.713276Z",
     "start_time": "2023-04-27T02:00:51.704892Z"
    }
   },
   "outputs": [
    {
     "name": "stdout",
     "output_type": "stream",
     "text": [
      "Lewis Hamilton won the 2020 F1 World Championship. Here is the final driver standings for the 2020 season:\n",
      "\n",
      "1. Lewis Hamilton (Mercedes) - 347 points\n",
      "2. Valtteri Bottas (Mercedes) - 223 points\n",
      "3. Max Verstappen (Red Bull) - 214 points\n",
      "4. Sergio Perez (Racing Point) - 125 points\n",
      "5. Daniel Ricciardo (Renault) - 119 points\n",
      "6. Carlos Sainz (McLaren) - 105 points\n",
      "7. Alexander Albon (Red Bull) - 105 points\n",
      "8. Charles Leclerc (Ferrari) - 98 points\n",
      "9. Lando Norris (McLaren) - 97 points\n",
      "10. Pierre Gasly (AlphaTauri) - 75 points\n",
      "\n",
      "Lewis Hamilton recorded 11 race wins, 14 podium finishes, and 10 pole positions during the year 2020.\n"
     ]
    }
   ],
   "source": [
    "print(chatResponse['choices'][0]['message']['content'])"
   ]
  },
  {
   "cell_type": "code",
   "execution_count": null,
   "id": "ce7433d3",
   "metadata": {},
   "outputs": [],
   "source": []
  }
 ],
 "metadata": {
  "kernelspec": {
   "display_name": "tfGPU",
   "language": "python",
   "name": "tfgpu"
  },
  "language_info": {
   "codemirror_mode": {
    "name": "ipython",
    "version": 3
   },
   "file_extension": ".py",
   "mimetype": "text/x-python",
   "name": "python",
   "nbconvert_exporter": "python",
   "pygments_lexer": "ipython3",
   "version": "3.9.12"
  },
  "toc": {
   "base_numbering": 1,
   "nav_menu": {},
   "number_sections": true,
   "sideBar": true,
   "skip_h1_title": false,
   "title_cell": "Table of Contents",
   "title_sidebar": "Contents",
   "toc_cell": false,
   "toc_position": {},
   "toc_section_display": true,
   "toc_window_display": false
  },
  "varInspector": {
   "cols": {
    "lenName": 16,
    "lenType": 16,
    "lenVar": 40
   },
   "kernels_config": {
    "python": {
     "delete_cmd_postfix": "",
     "delete_cmd_prefix": "del ",
     "library": "var_list.py",
     "varRefreshCmd": "print(var_dic_list())"
    },
    "r": {
     "delete_cmd_postfix": ") ",
     "delete_cmd_prefix": "rm(",
     "library": "var_list.r",
     "varRefreshCmd": "cat(var_dic_list()) "
    }
   },
   "types_to_exclude": [
    "module",
    "function",
    "builtin_function_or_method",
    "instance",
    "_Feature"
   ],
   "window_display": false
  }
 },
 "nbformat": 4,
 "nbformat_minor": 5
}
